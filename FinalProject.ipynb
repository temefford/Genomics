{
 "cells": [
  {
   "cell_type": "markdown",
   "id": "protecting-limit",
   "metadata": {
    "toc": true
   },
   "source": [
    "<h1>Table of Contents<span class=\"tocSkip\"></span></h1>\n",
    "<div class=\"toc\"><ul class=\"toc-item\"><li><span><a href=\"#Load-Data\" data-toc-modified-id=\"Load-Data-1\"><span class=\"toc-item-num\">1&nbsp;&nbsp;</span>Load Data</a></span><ul class=\"toc-item\"><li><span><a href=\"#Pull-out-some-test-data-that-the-model-will-never-train-on-but-only-be-evaluated-on\" data-toc-modified-id=\"Pull-out-some-test-data-that-the-model-will-never-train-on-but-only-be-evaluated-on-1.1\"><span class=\"toc-item-num\">1.1&nbsp;&nbsp;</span>Pull out some test data that the model will never train on but only be evaluated on</a></span></li></ul></li><li><span><a href=\"#Algorithms-&amp;-Search\" data-toc-modified-id=\"Algorithms-&amp;-Search-2\"><span class=\"toc-item-num\">2&nbsp;&nbsp;</span>Algorithms &amp; Search</a></span><ul class=\"toc-item\"><li><span><a href=\"#Set-up-paramater-grid-for-RandomSearch-to-get-hyperparameters\" data-toc-modified-id=\"Set-up-paramater-grid-for-RandomSearch-to-get-hyperparameters-2.1\"><span class=\"toc-item-num\">2.1&nbsp;&nbsp;</span>Set up paramater grid for RandomSearch to get hyperparameters</a></span><ul class=\"toc-item\"><li><span><a href=\"#Random-Forest-parameters\" data-toc-modified-id=\"Random-Forest-parameters-2.1.1\"><span class=\"toc-item-num\">2.1.1&nbsp;&nbsp;</span>Random Forest parameters</a></span></li><li><span><a href=\"#K-nearest-neighbors-classifier\" data-toc-modified-id=\"K-nearest-neighbors-classifier-2.1.2\"><span class=\"toc-item-num\">2.1.2&nbsp;&nbsp;</span>K nearest neighbors classifier</a></span></li></ul></li><li><span><a href=\"#Make-and-fit-pipes\" data-toc-modified-id=\"Make-and-fit-pipes-2.2\"><span class=\"toc-item-num\">2.2&nbsp;&nbsp;</span>Make and fit pipes</a></span></li></ul></li><li><span><a href=\"#Evaluation\" data-toc-modified-id=\"Evaluation-3\"><span class=\"toc-item-num\">3&nbsp;&nbsp;</span>Evaluation</a></span><ul class=\"toc-item\"><li><span><a href=\"#Random-Forest\" data-toc-modified-id=\"Random-Forest-3.1\"><span class=\"toc-item-num\">3.1&nbsp;&nbsp;</span>Random Forest</a></span></li><li><span><a href=\"#K-Nearest-Neighbor\" data-toc-modified-id=\"K-Nearest-Neighbor-3.2\"><span class=\"toc-item-num\">3.2&nbsp;&nbsp;</span>K Nearest Neighbor</a></span></li></ul></li><li><span><a href=\"#Results\" data-toc-modified-id=\"Results-4\"><span class=\"toc-item-num\">4&nbsp;&nbsp;</span>Results</a></span></li></ul></div>"
   ]
  },
  {
   "cell_type": "code",
   "execution_count": 49,
   "id": "united-dryer",
   "metadata": {
    "ExecuteTime": {
     "end_time": "2021-03-12T07:56:54.659144Z",
     "start_time": "2021-03-12T07:56:54.642144Z"
    }
   },
   "outputs": [],
   "source": [
    "import numpy as np\n",
    "import pandas as pd\n",
    "from   sklearn.metrics            import balanced_accuracy_score\n",
    "from   sklearn.model_selection    import RandomizedSearchCV\n",
    "from   sklearn.preprocessing      import StandardScaler\n",
    "from   sklearn.ensemble           import RandomForestClassifier, ExtraTreesClassifier, IsolationForest\n",
    "from   sklearn.model_selection    import train_test_split\n",
    "from   sklearn.metrics            import roc_auc_score\n",
    "import scipy.stats\n",
    "from   sklearn.metrics            import classification_report, confusion_matrix,accuracy_score\n",
    "import matplotlib.pyplot as plt\n",
    "import seaborn as sns\n",
    "import shap\n",
    "from   sklearn.model_selection    import cross_val_score\n",
    "from   sklearn.pipeline           import Pipeline\n",
    "import random\n",
    "from   sklearn.feature_selection  import SelectKBest, chi2\n",
    "from   sklearn.neighbors          import KNeighborsClassifier"
   ]
  },
  {
   "cell_type": "markdown",
   "id": "convinced-tension",
   "metadata": {
    "ExecuteTime": {
     "end_time": "2021-03-12T04:32:43.748868Z",
     "start_time": "2021-03-12T04:32:43.742868Z"
    }
   },
   "source": [
    "## Load Data"
   ]
  },
  {
   "cell_type": "code",
   "execution_count": 2,
   "id": "orange-evening",
   "metadata": {
    "ExecuteTime": {
     "end_time": "2021-03-12T06:59:58.393733Z",
     "start_time": "2021-03-12T06:59:49.112680Z"
    }
   },
   "outputs": [],
   "source": [
    "feature_data = pd.read_csv(r'cancer_data\\data.csv',index_col = 0)\n",
    "label_data = pd.read_csv(r'cancer_data\\labels.csv',index_col = 0)\n",
    "cancer_data = feature_data.join(label_data)"
   ]
  },
  {
   "cell_type": "markdown",
   "id": "shaped-conviction",
   "metadata": {},
   "source": [
    "### Pull out some test data that the model will never train on but only be evaluated on"
   ]
  },
  {
   "cell_type": "code",
   "execution_count": 6,
   "id": "varied-insertion",
   "metadata": {
    "ExecuteTime": {
     "end_time": "2021-03-12T07:02:20.091630Z",
     "start_time": "2021-03-12T07:02:20.006631Z"
    }
   },
   "outputs": [],
   "source": [
    "X = cancer_data[cancer_data.columns[:-1]]\n",
    "y = cancer_data['Class']\n",
    "X_train, X_test, y_train, y_test = train_test_split(X, y, test_size=0.2, random_state=42)"
   ]
  },
  {
   "cell_type": "markdown",
   "id": "naval-heart",
   "metadata": {
    "ExecuteTime": {
     "end_time": "2021-03-12T05:05:23.968297Z",
     "start_time": "2021-03-12T05:05:23.952297Z"
    }
   },
   "source": [
    "## Algorithms & Search"
   ]
  },
  {
   "cell_type": "markdown",
   "id": "secret-contributor",
   "metadata": {},
   "source": [
    "__For my data the primary form of feature engineering is using feature importance to reduce dimensionality. Since I'm using Random Forest, scaling is not necessary. I'll have to find a good model to extract the features from first__"
   ]
  },
  {
   "cell_type": "markdown",
   "id": "normal-tuesday",
   "metadata": {},
   "source": [
    "### Set up paramater grid for RandomSearch to get hyperparameters"
   ]
  },
  {
   "cell_type": "markdown",
   "id": "breeding-candidate",
   "metadata": {},
   "source": [
    "#### Random Forest parameters"
   ]
  },
  {
   "cell_type": "code",
   "execution_count": 55,
   "id": "satisfactory-riding",
   "metadata": {
    "ExecuteTime": {
     "end_time": "2021-03-12T08:01:00.302126Z",
     "start_time": "2021-03-12T08:01:00.287127Z"
    }
   },
   "outputs": [],
   "source": [
    "# Number of features to consider at every split\n",
    "n_estimators = [int(x) for x in np.linspace(start = 10, stop = 2000, num =10)]\n",
    "# Maximum number of levels in tree\n",
    "max_features = ['auto', 'sqrt','log2']\n",
    "\n",
    "max_depth = [int(x) for x in np.linspace(10, 110, num = 11)]\n",
    "# Minimum number of samples required to split a node\n",
    "max_depth.append(None)\n",
    "# Minimum number of samples required at each leaf node\n",
    "min_samples_split = [2, 5, 10]\n",
    "# Method of selecting samples for training each tree\n",
    "min_samples_leaf = [1, 2, 4]\n",
    "# Create the random grid\n",
    "bootstrap = [True, False]\n",
    "\n",
    "random_grid_rf = {'n_estimators': n_estimators,\n",
    "                  'max_features': max_features,\n",
    "                  'max_depth': max_depth,\n",
    "                  'min_samples_split': min_samples_split,\n",
    "                  'min_samples_leaf': min_samples_leaf,\n",
    "                  'bootstrap': bootstrap}"
   ]
  },
  {
   "cell_type": "markdown",
   "id": "first-glucose",
   "metadata": {},
   "source": [
    "#### K nearest neighbors classifier"
   ]
  },
  {
   "cell_type": "code",
   "execution_count": 47,
   "id": "hungry-andorra",
   "metadata": {
    "ExecuteTime": {
     "end_time": "2021-03-12T07:55:37.035088Z",
     "start_time": "2021-03-12T07:55:37.019960Z"
    }
   },
   "outputs": [],
   "source": [
    "# Number of neighbors that will weigh in on the vote\n",
    "n_neighbors = np.arange(1, 20, 2)\n",
    "# Whether or not distance is accounted for\n",
    "weights = ['uniform', 'distance']\n",
    "# Metric for weights\n",
    "metric = ['euclidean', 'manhattan']\n",
    "# Algorithm used to compute the nearest neighbors\n",
    "alg = ['auto', 'ball_tree', 'kd_tree', 'brute']\n",
    "\n",
    "random_grid_knn = {'n_neighbors': n_neighbors,\n",
    "               'weights': weights,\n",
    "               'metric': metric,\n",
    "               'algorithm': alg}"
   ]
  },
  {
   "cell_type": "markdown",
   "id": "special-tolerance",
   "metadata": {},
   "source": [
    "### Make and fit pipes"
   ]
  },
  {
   "cell_type": "code",
   "execution_count": 82,
   "id": "fifteen-birmingham",
   "metadata": {
    "ExecuteTime": {
     "end_time": "2021-03-12T08:20:58.393999Z",
     "start_time": "2021-03-12T08:20:50.402317Z"
    },
    "scrolled": true
   },
   "outputs": [
    {
     "name": "stdout",
     "output_type": "stream",
     "text": [
      "Balanced Accuracy Score: 1.0\n"
     ]
    }
   ],
   "source": [
    "pipe1 = Pipeline([('skb', SelectKBest(chi2, k = 50)),\n",
    "                 ('model', RandomizedSearchCV(estimator=RandomForestClassifier(),\\\n",
    "                            param_distributions=random_grid_rf,\\\n",
    "                            n_iter=13, cv=5, verbose=0,\\\n",
    "                            n_jobs=-2,\\\n",
    "                            scoring='roc_auc_ovr_weighted'))])\n",
    "\n",
    "pipe1.fit(X_train, y_train)\n",
    "best_rf_model = pipe1['model'].best_estimator_\n",
    "y_pred_rf = best_rf_model.predict(pipe1['skb'].transform(X_test))\n",
    "acc = balanced_accuracy_score(y_test, y_pred)\n",
    "print(f\"Balanced Accuracy Score: {acc}\")"
   ]
  },
  {
   "cell_type": "code",
   "execution_count": 83,
   "id": "severe-government",
   "metadata": {
    "ExecuteTime": {
     "end_time": "2021-03-12T08:23:45.985738Z",
     "start_time": "2021-03-12T08:23:45.357033Z"
    }
   },
   "outputs": [
    {
     "name": "stdout",
     "output_type": "stream",
     "text": [
      "Balanced Accuracy Score: 1.0\n"
     ]
    }
   ],
   "source": [
    "pipe2 = Pipeline([('skb', SelectKBest(chi2, k = 300)),\n",
    "                 ('model', RandomizedSearchCV(estimator=KNeighborsClassifier(),\\\n",
    "                            param_distributions=random_grid_knn,\\\n",
    "                            n_iter=13, cv=5, verbose=0,\\\n",
    "                            n_jobs=-2,\\\n",
    "                            scoring='roc_auc_ovr_weighted'))])\n",
    "\n",
    "pipe2.fit(X_train, y_train)\n",
    "best_knn_model = pipe2['model'].best_estimator_\n",
    "y_pred_knn = best_knn_model.predict(pipe2['skb'].transform(X_test))\n",
    "acc = balanced_accuracy_score(y_test, y_pred)\n",
    "print(f\"Balanced Accuracy Score: {acc}\")"
   ]
  },
  {
   "cell_type": "markdown",
   "id": "hungarian-football",
   "metadata": {},
   "source": [
    "## Evaluation"
   ]
  },
  {
   "cell_type": "markdown",
   "id": "rural-integration",
   "metadata": {},
   "source": [
    "__Because Both models perform perform perfectly evaluation metrics aren't very informative so I will focus on exploring the features that led to prediction__"
   ]
  },
  {
   "cell_type": "markdown",
   "id": "simple-playback",
   "metadata": {
    "ExecuteTime": {
     "end_time": "2021-03-12T08:09:47.266829Z",
     "start_time": "2021-03-12T08:09:47.264828Z"
    }
   },
   "source": [
    "### Random Forest"
   ]
  },
  {
   "cell_type": "code",
   "execution_count": 141,
   "id": "expired-lender",
   "metadata": {
    "ExecuteTime": {
     "end_time": "2021-03-12T08:57:36.460323Z",
     "start_time": "2021-03-12T08:57:36.350315Z"
    },
    "scrolled": true
   },
   "outputs": [
    {
     "data": {
      "text/html": [
       "<div>\n",
       "<style scoped>\n",
       "    .dataframe tbody tr th:only-of-type {\n",
       "        vertical-align: middle;\n",
       "    }\n",
       "\n",
       "    .dataframe tbody tr th {\n",
       "        vertical-align: top;\n",
       "    }\n",
       "\n",
       "    .dataframe thead th {\n",
       "        text-align: right;\n",
       "    }\n",
       "</style>\n",
       "<table border=\"1\" class=\"dataframe\">\n",
       "  <thead>\n",
       "    <tr style=\"text-align: right;\">\n",
       "      <th></th>\n",
       "      <th>0</th>\n",
       "      <th>1</th>\n",
       "    </tr>\n",
       "  </thead>\n",
       "  <tbody>\n",
       "    <tr>\n",
       "      <th>0</th>\n",
       "      <td>gene_30</td>\n",
       "      <td>0.087042</td>\n",
       "    </tr>\n",
       "    <tr>\n",
       "      <th>1</th>\n",
       "      <td>gene_35</td>\n",
       "      <td>0.044211</td>\n",
       "    </tr>\n",
       "    <tr>\n",
       "      <th>2</th>\n",
       "      <td>gene_13</td>\n",
       "      <td>0.038020</td>\n",
       "    </tr>\n",
       "    <tr>\n",
       "      <th>3</th>\n",
       "      <td>gene_33</td>\n",
       "      <td>0.034371</td>\n",
       "    </tr>\n",
       "    <tr>\n",
       "      <th>4</th>\n",
       "      <td>gene_15</td>\n",
       "      <td>0.033872</td>\n",
       "    </tr>\n",
       "    <tr>\n",
       "      <th>5</th>\n",
       "      <td>gene_14</td>\n",
       "      <td>0.033817</td>\n",
       "    </tr>\n",
       "    <tr>\n",
       "      <th>6</th>\n",
       "      <td>gene_6</td>\n",
       "      <td>0.033140</td>\n",
       "    </tr>\n",
       "    <tr>\n",
       "      <th>7</th>\n",
       "      <td>gene_47</td>\n",
       "      <td>0.033114</td>\n",
       "    </tr>\n",
       "    <tr>\n",
       "      <th>8</th>\n",
       "      <td>gene_5</td>\n",
       "      <td>0.031315</td>\n",
       "    </tr>\n",
       "    <tr>\n",
       "      <th>9</th>\n",
       "      <td>gene_34</td>\n",
       "      <td>0.031015</td>\n",
       "    </tr>\n",
       "    <tr>\n",
       "      <th>10</th>\n",
       "      <td>gene_20</td>\n",
       "      <td>0.030627</td>\n",
       "    </tr>\n",
       "    <tr>\n",
       "      <th>11</th>\n",
       "      <td>gene_32</td>\n",
       "      <td>0.029918</td>\n",
       "    </tr>\n",
       "    <tr>\n",
       "      <th>12</th>\n",
       "      <td>gene_25</td>\n",
       "      <td>0.026643</td>\n",
       "    </tr>\n",
       "    <tr>\n",
       "      <th>13</th>\n",
       "      <td>gene_8</td>\n",
       "      <td>0.025050</td>\n",
       "    </tr>\n",
       "    <tr>\n",
       "      <th>14</th>\n",
       "      <td>gene_28</td>\n",
       "      <td>0.024717</td>\n",
       "    </tr>\n",
       "    <tr>\n",
       "      <th>15</th>\n",
       "      <td>gene_31</td>\n",
       "      <td>0.024605</td>\n",
       "    </tr>\n",
       "    <tr>\n",
       "      <th>16</th>\n",
       "      <td>gene_7</td>\n",
       "      <td>0.024604</td>\n",
       "    </tr>\n",
       "    <tr>\n",
       "      <th>17</th>\n",
       "      <td>gene_4</td>\n",
       "      <td>0.024039</td>\n",
       "    </tr>\n",
       "    <tr>\n",
       "      <th>18</th>\n",
       "      <td>gene_1</td>\n",
       "      <td>0.023885</td>\n",
       "    </tr>\n",
       "    <tr>\n",
       "      <th>19</th>\n",
       "      <td>gene_10</td>\n",
       "      <td>0.023260</td>\n",
       "    </tr>\n",
       "    <tr>\n",
       "      <th>20</th>\n",
       "      <td>gene_29</td>\n",
       "      <td>0.022351</td>\n",
       "    </tr>\n",
       "    <tr>\n",
       "      <th>21</th>\n",
       "      <td>gene_0</td>\n",
       "      <td>0.022077</td>\n",
       "    </tr>\n",
       "    <tr>\n",
       "      <th>22</th>\n",
       "      <td>gene_19</td>\n",
       "      <td>0.021021</td>\n",
       "    </tr>\n",
       "    <tr>\n",
       "      <th>23</th>\n",
       "      <td>gene_36</td>\n",
       "      <td>0.017212</td>\n",
       "    </tr>\n",
       "    <tr>\n",
       "      <th>24</th>\n",
       "      <td>gene_12</td>\n",
       "      <td>0.016824</td>\n",
       "    </tr>\n",
       "    <tr>\n",
       "      <th>25</th>\n",
       "      <td>gene_44</td>\n",
       "      <td>0.016416</td>\n",
       "    </tr>\n",
       "    <tr>\n",
       "      <th>26</th>\n",
       "      <td>gene_3</td>\n",
       "      <td>0.016041</td>\n",
       "    </tr>\n",
       "    <tr>\n",
       "      <th>27</th>\n",
       "      <td>gene_46</td>\n",
       "      <td>0.015458</td>\n",
       "    </tr>\n",
       "    <tr>\n",
       "      <th>28</th>\n",
       "      <td>gene_17</td>\n",
       "      <td>0.014824</td>\n",
       "    </tr>\n",
       "    <tr>\n",
       "      <th>29</th>\n",
       "      <td>gene_49</td>\n",
       "      <td>0.014617</td>\n",
       "    </tr>\n",
       "    <tr>\n",
       "      <th>30</th>\n",
       "      <td>gene_24</td>\n",
       "      <td>0.013184</td>\n",
       "    </tr>\n",
       "    <tr>\n",
       "      <th>31</th>\n",
       "      <td>gene_9</td>\n",
       "      <td>0.012621</td>\n",
       "    </tr>\n",
       "    <tr>\n",
       "      <th>32</th>\n",
       "      <td>gene_22</td>\n",
       "      <td>0.012526</td>\n",
       "    </tr>\n",
       "    <tr>\n",
       "      <th>33</th>\n",
       "      <td>gene_16</td>\n",
       "      <td>0.012472</td>\n",
       "    </tr>\n",
       "    <tr>\n",
       "      <th>34</th>\n",
       "      <td>gene_18</td>\n",
       "      <td>0.011905</td>\n",
       "    </tr>\n",
       "    <tr>\n",
       "      <th>35</th>\n",
       "      <td>gene_23</td>\n",
       "      <td>0.011882</td>\n",
       "    </tr>\n",
       "    <tr>\n",
       "      <th>36</th>\n",
       "      <td>gene_26</td>\n",
       "      <td>0.011601</td>\n",
       "    </tr>\n",
       "    <tr>\n",
       "      <th>37</th>\n",
       "      <td>gene_27</td>\n",
       "      <td>0.011160</td>\n",
       "    </tr>\n",
       "    <tr>\n",
       "      <th>38</th>\n",
       "      <td>gene_21</td>\n",
       "      <td>0.011006</td>\n",
       "    </tr>\n",
       "    <tr>\n",
       "      <th>39</th>\n",
       "      <td>gene_11</td>\n",
       "      <td>0.010894</td>\n",
       "    </tr>\n",
       "    <tr>\n",
       "      <th>40</th>\n",
       "      <td>gene_2</td>\n",
       "      <td>0.010282</td>\n",
       "    </tr>\n",
       "    <tr>\n",
       "      <th>41</th>\n",
       "      <td>gene_42</td>\n",
       "      <td>0.009828</td>\n",
       "    </tr>\n",
       "    <tr>\n",
       "      <th>42</th>\n",
       "      <td>gene_40</td>\n",
       "      <td>0.006774</td>\n",
       "    </tr>\n",
       "    <tr>\n",
       "      <th>43</th>\n",
       "      <td>gene_39</td>\n",
       "      <td>0.005901</td>\n",
       "    </tr>\n",
       "    <tr>\n",
       "      <th>44</th>\n",
       "      <td>gene_45</td>\n",
       "      <td>0.003681</td>\n",
       "    </tr>\n",
       "    <tr>\n",
       "      <th>45</th>\n",
       "      <td>gene_37</td>\n",
       "      <td>0.002690</td>\n",
       "    </tr>\n",
       "    <tr>\n",
       "      <th>46</th>\n",
       "      <td>gene_48</td>\n",
       "      <td>0.002648</td>\n",
       "    </tr>\n",
       "    <tr>\n",
       "      <th>47</th>\n",
       "      <td>gene_38</td>\n",
       "      <td>0.002081</td>\n",
       "    </tr>\n",
       "    <tr>\n",
       "      <th>48</th>\n",
       "      <td>gene_43</td>\n",
       "      <td>0.001956</td>\n",
       "    </tr>\n",
       "    <tr>\n",
       "      <th>49</th>\n",
       "      <td>gene_41</td>\n",
       "      <td>0.000804</td>\n",
       "    </tr>\n",
       "  </tbody>\n",
       "</table>\n",
       "</div>"
      ],
      "text/plain": [
       "          0         1\n",
       "0   gene_30  0.087042\n",
       "1   gene_35  0.044211\n",
       "2   gene_13  0.038020\n",
       "3   gene_33  0.034371\n",
       "4   gene_15  0.033872\n",
       "5   gene_14  0.033817\n",
       "6    gene_6  0.033140\n",
       "7   gene_47  0.033114\n",
       "8    gene_5  0.031315\n",
       "9   gene_34  0.031015\n",
       "10  gene_20  0.030627\n",
       "11  gene_32  0.029918\n",
       "12  gene_25  0.026643\n",
       "13   gene_8  0.025050\n",
       "14  gene_28  0.024717\n",
       "15  gene_31  0.024605\n",
       "16   gene_7  0.024604\n",
       "17   gene_4  0.024039\n",
       "18   gene_1  0.023885\n",
       "19  gene_10  0.023260\n",
       "20  gene_29  0.022351\n",
       "21   gene_0  0.022077\n",
       "22  gene_19  0.021021\n",
       "23  gene_36  0.017212\n",
       "24  gene_12  0.016824\n",
       "25  gene_44  0.016416\n",
       "26   gene_3  0.016041\n",
       "27  gene_46  0.015458\n",
       "28  gene_17  0.014824\n",
       "29  gene_49  0.014617\n",
       "30  gene_24  0.013184\n",
       "31   gene_9  0.012621\n",
       "32  gene_22  0.012526\n",
       "33  gene_16  0.012472\n",
       "34  gene_18  0.011905\n",
       "35  gene_23  0.011882\n",
       "36  gene_26  0.011601\n",
       "37  gene_27  0.011160\n",
       "38  gene_21  0.011006\n",
       "39  gene_11  0.010894\n",
       "40   gene_2  0.010282\n",
       "41  gene_42  0.009828\n",
       "42  gene_40  0.006774\n",
       "43  gene_39  0.005901\n",
       "44  gene_45  0.003681\n",
       "45  gene_37  0.002690\n",
       "46  gene_48  0.002648\n",
       "47  gene_38  0.002081\n",
       "48  gene_43  0.001956\n",
       "49  gene_41  0.000804"
      ]
     },
     "execution_count": 141,
     "metadata": {},
     "output_type": "execute_result"
    }
   ],
   "source": [
    "importances = best_rf_model.feature_importances_\n",
    "feature_importances = [(feature, round(importance, 6))\\\n",
    "                       for feature,importance in \\\n",
    "                       zip(cancer_data.columns, importances)]\n",
    "\n",
    "feature_importances = sorted(feature_importances,\\\n",
    "                             key = lambda x: x[1],\\\n",
    "                             reverse = True)\n",
    "feature_imp_df = pd.DataFrame(feature_importances)"
   ]
  },
  {
   "cell_type": "code",
   "execution_count": 152,
   "id": "interstate-grove",
   "metadata": {
    "ExecuteTime": {
     "end_time": "2021-03-12T09:05:32.729563Z",
     "start_time": "2021-03-12T09:05:32.620564Z"
    },
    "scrolled": true
   },
   "outputs": [
    {
     "name": "stderr",
     "output_type": "stream",
     "text": [
      "No handles with labels found to put in legend.\n"
     ]
    },
    {
     "data": {
      "image/png": "[encoded data removed]",
      "text/plain": [
       "<Figure size 576x360 with 1 Axes>"
      ]
     },
     "metadata": {},
     "output_type": "display_data"
    }
   ],
   "source": [
    "f, ax = plt.subplots(figsize=(8,5))\n",
    "plt.plot(np.arange(len(feature_imp_df)), feature_imp_df[1])\n",
    "plt.title('Feature Importance')\n",
    "plt.ylabel('Relative Importance')\n",
    "plt.legend()\n",
    "plt.show()"
   ]
  },
  {
   "cell_type": "code",
   "execution_count": 168,
   "id": "altered-bible",
   "metadata": {
    "ExecuteTime": {
     "end_time": "2021-03-12T09:27:03.602347Z",
     "start_time": "2021-03-12T09:25:03.432348Z"
    },
    "scrolled": true
   },
   "outputs": [
    {
     "name": "stdout",
     "output_type": "stream",
     "text": [
      "Fitting 5 folds for each of 13 candidates, totalling 65 fits\n",
      "Accuracy with 1 features included in the dataset: 0.46630434782608693\n",
      "Fitting 5 folds for each of 13 candidates, totalling 65 fits\n",
      "Accuracy with 4 features included in the dataset: 0.6547919588592801\n",
      "Fitting 5 folds for each of 13 candidates, totalling 65 fits\n",
      "Accuracy with 7 features included in the dataset: 0.6290264142122488\n",
      "Fitting 5 folds for each of 13 candidates, totalling 65 fits\n",
      "Accuracy with 10 features included in the dataset: 0.7223468910705937\n",
      "Fitting 5 folds for each of 13 candidates, totalling 65 fits\n",
      "Accuracy with 13 features included in the dataset: 0.7483929406264609\n",
      "Fitting 5 folds for each of 13 candidates, totalling 65 fits\n",
      "Accuracy with 16 features included in the dataset: 0.8302185600748013\n",
      "Fitting 5 folds for each of 13 candidates, totalling 65 fits\n",
      "Accuracy with 19 features included in the dataset: 0.8127863487611033\n",
      "Fitting 5 folds for each of 13 candidates, totalling 65 fits\n",
      "Accuracy with 22 features included in the dataset: 0.8002045348293596\n",
      "Fitting 5 folds for each of 13 candidates, totalling 65 fits\n",
      "Accuracy with 25 features included in the dataset: 0.8324216923796166\n",
      "Fitting 5 folds for each of 13 candidates, totalling 65 fits\n",
      "Accuracy with 28 features included in the dataset: 0.8522206638616175\n",
      "Fitting 5 folds for each of 13 candidates, totalling 65 fits\n",
      "Accuracy with 31 features included in the dataset: 0.848013090229079\n",
      "Fitting 5 folds for each of 13 candidates, totalling 65 fits\n",
      "Accuracy with 34 features included in the dataset: 0.86283894343151\n",
      "Fitting 5 folds for each of 13 candidates, totalling 65 fits\n",
      "Accuracy with 37 features included in the dataset: 0.940135577372604\n",
      "Fitting 5 folds for each of 13 candidates, totalling 65 fits\n",
      "Accuracy with 40 features included in the dataset: 0.927635577372604\n",
      "Fitting 5 folds for each of 13 candidates, totalling 65 fits\n",
      "Accuracy with 43 features included in the dataset: 0.9211839644693782\n",
      "Fitting 5 folds for each of 13 candidates, totalling 65 fits\n",
      "Accuracy with 46 features included in the dataset: 0.9340462833099579\n",
      "Fitting 5 folds for each of 13 candidates, totalling 65 fits\n",
      "Accuracy with 49 features included in the dataset: 0.9340462833099579\n"
     ]
    }
   ],
   "source": [
    "accuracies = []\n",
    "num_included = []\n",
    "for num_cols in range(1, 50, 3):\n",
    "    cols = feature_imp_df[0][:num_cols]\n",
    "\n",
    "    rf_fit = RandomizedSearchCV(estimator=RandomForestClassifier(),\\\n",
    "                            param_distributions=random_grid_rf,\\\n",
    "                            n_iter=13, cv=5, verbose=3,\\\n",
    "                            n_jobs=-2,\\\n",
    "                            scoring='roc_auc_ovr_weighted')\n",
    "\n",
    "    rf_fit.fit(X_train[cols], y_train)\n",
    "    best_model = rf_fit.best_estimator_\n",
    "    y_pred = best_model.predict(X_test[cols])\n",
    "    acc = balanced_accuracy_score(y_test, y_pred)\n",
    "    print(f\"Accuracy with {num_cols} features included in the dataset: {acc}\")\n",
    "    accuracies.append(acc)\n",
    "    num_included.append(num_cols)"
   ]
  },
  {
   "cell_type": "code",
   "execution_count": 172,
   "id": "digital-sacramento",
   "metadata": {
    "ExecuteTime": {
     "end_time": "2021-03-12T09:28:02.308059Z",
     "start_time": "2021-03-12T09:28:02.195059Z"
    }
   },
   "outputs": [
    {
     "name": "stderr",
     "output_type": "stream",
     "text": [
      "No handles with labels found to put in legend.\n"
     ]
    },
    {
     "data": {
      "image/png": "[encoded data removed]",
      "text/plain": [
       "<Figure size 576x360 with 1 Axes>"
      ]
     },
     "metadata": {},
     "output_type": "display_data"
    }
   ],
   "source": [
    "f, ax = plt.subplots(figsize=(8,5))\n",
    "plt.plot(num_included, accuracies)\n",
    "plt.title('Feature Importance')\n",
    "plt.ylabel('Relative Importance')\n",
    "ax.set_xlabel(range(1, 50, 3))\n",
    "plt.legend()\n",
    "plt.show()"
   ]
  },
  {
   "cell_type": "markdown",
   "id": "unlimited-strength",
   "metadata": {
    "ExecuteTime": {
     "end_time": "2021-03-12T09:23:32.550145Z",
     "start_time": "2021-03-12T09:23:32.533145Z"
    }
   },
   "source": [
    "__This plot allows us to see that it only takes about 38 genes to accurately predict the type of cancer a patient has at 90% confidence, within the confines of the population that this data was collected from.__"
   ]
  },
  {
   "cell_type": "markdown",
   "id": "medium-spray",
   "metadata": {},
   "source": [
    "### K Nearest Neighbor"
   ]
  },
  {
   "cell_type": "code",
   "execution_count": 193,
   "id": "periodic-artist",
   "metadata": {
    "ExecuteTime": {
     "end_time": "2021-03-12T09:44:15.702763Z",
     "start_time": "2021-03-12T09:44:15.690765Z"
    }
   },
   "outputs": [
    {
     "name": "stdout",
     "output_type": "stream",
     "text": [
      "{'algorithm': 'brute', 'leaf_size': 30, 'metric': 'euclidean', 'metric_params': None, 'n_jobs': None, 'n_neighbors': 9, 'p': 2, 'weights': 'uniform'}\n"
     ]
    }
   ],
   "source": [
    "knn_params = best_knn_model.get_params()\n",
    "print(knn_params)"
   ]
  },
  {
   "cell_type": "code",
   "execution_count": 220,
   "id": "rubber-pipeline",
   "metadata": {
    "ExecuteTime": {
     "end_time": "2021-03-12T10:03:32.051929Z",
     "start_time": "2021-03-12T10:03:24.185982Z"
    },
    "scrolled": false
   },
   "outputs": [
    {
     "name": "stderr",
     "output_type": "stream",
     "text": [
      "Pass the following variables as keyword args: x, y. From version 0.12, the only valid positional argument will be `data`, and passing other arguments without an explicit keyword will result in an error or misinterpretation.\n"
     ]
    },
    {
     "data": {
      "image/png": "[encoded data removed]",
      "text/plain": [
       "<Figure size 576x432 with 1 Axes>"
      ]
     },
     "metadata": {},
     "output_type": "display_data"
    }
   ],
   "source": [
    "X = cancer_data[cancer_data.columns[:-1]]\n",
    "y = cancer_data['Class']\n",
    "X_top_two = X[feature_imp_df[0][:2]]\n",
    "X = X_top_two.values\n",
    "\n",
    "to_num = {'BRCA': 1, 'COAD': 2, 'KIRC': 3, 'LUAD': 4, 'PRAD': 5}\n",
    "y = y.replace(to_num).values\n",
    "h = .02  # step size in the mesh\n",
    "\n",
    "colors = ListedColormap(['red', 'green', 'cornflowerblue', 'blue', 'yellow'])\n",
    "\n",
    "clf = neighbors.KNeighborsClassifier(**knn_params)\n",
    "clf.fit(X_top_two, y)\n",
    "\n",
    "# Plot the decision boundary. For that, we will assign a color to each\n",
    "# point in the mesh [x_min, x_max]x[y_min, y_max].\n",
    "X_min, X_max = X[:, 0].min() - 1, X[:, 0].max() + 1\n",
    "y_min, y_max = X[:, 1].min() - 1, X[:, 1].max() + 1\n",
    "xx, yy = np.meshgrid(np.arange(X_min, X_max, h),\n",
    "                     np.arange(y_min, y_max, h))\n",
    "Z = clf.predict(np.c_[xx.ravel(), yy.ravel()])\n",
    "\n",
    "# Put the result into a color plot\n",
    "Z = Z.reshape(xx.shape)\n",
    "plt.figure(figsize=(8, 6))\n",
    "plt.contourf(xx, yy, Z, cmap=cmap_light)\n",
    "\n",
    "# Plot also the training points\n",
    "sns.scatterplot(X[:, 0], X[:, 1], c=y,\n",
    "                palette=cmap_bold, alpha=1.0, edgecolor=\"black\")\n",
    "plt.xlim(xx.min(), xx.max())\n",
    "plt.ylim(yy.min(), yy.max())\n",
    "plt.title(\"Distribution of Cancer cases consider two most important features\")\n",
    "plt.xlabel(feature_imp_df[0][1])\n",
    "plt.ylabel(feature_imp_df[0][2])\n",
    "\n",
    "plt.show()"
   ]
  },
  {
   "cell_type": "markdown",
   "id": "photographic-visibility",
   "metadata": {},
   "source": [
    "## Results"
   ]
  },
  {
   "cell_type": "markdown",
   "id": "ethical-polls",
   "metadata": {
    "ExecuteTime": {
     "end_time": "2021-03-12T10:11:06.421181Z",
     "start_time": "2021-03-12T10:11:06.405181Z"
    }
   },
   "source": [
    "__In this analysis we have seen that the data collected on the genes is very good at predicting what type of cancer a patient has. It is possible to very accurately predict the cancer with only 50 genes when using a random forest classifier or with 300 features in KNN. I believe these models worked so well because cancer is a hereditary disease and is stongly linked with certain genes. Further, in the above figure we see that certain cancers are very clustered when looking at just two genes. This analysis can be extened to further pursue an understand of how the cancer presents in specific genes and what the minimum diagnostics are needed to accurately predict the cancer. This has the possibility to help guide research as well as be implemented in practice to reduce testing costs and thus the cost to both the individual and medical community.__"
   ]
  },
  {
   "cell_type": "markdown",
   "id": "therapeutic-hello",
   "metadata": {},
   "source": [
    "__The best model I obtained is a Random Forest Classifier with hyperparameters listed below__"
   ]
  },
  {
   "cell_type": "code",
   "execution_count": 225,
   "id": "rental-equality",
   "metadata": {
    "ExecuteTime": {
     "end_time": "2021-03-12T10:17:37.133518Z",
     "start_time": "2021-03-12T10:17:37.128518Z"
    }
   },
   "outputs": [
    {
     "data": {
      "text/plain": [
       "{'bootstrap': True,\n",
       " 'ccp_alpha': 0.0,\n",
       " 'class_weight': None,\n",
       " 'criterion': 'gini',\n",
       " 'max_depth': 10,\n",
       " 'max_features': 'log2',\n",
       " 'max_leaf_nodes': None,\n",
       " 'max_samples': None,\n",
       " 'min_impurity_decrease': 0.0,\n",
       " 'min_impurity_split': None,\n",
       " 'min_samples_leaf': 4,\n",
       " 'min_samples_split': 2,\n",
       " 'min_weight_fraction_leaf': 0.0,\n",
       " 'n_estimators': 1557,\n",
       " 'n_jobs': None,\n",
       " 'oob_score': False,\n",
       " 'random_state': None,\n",
       " 'verbose': 0,\n",
       " 'warm_start': False}"
      ]
     },
     "execution_count": 225,
     "metadata": {},
     "output_type": "execute_result"
    }
   ],
   "source": [
    "best_rf_model.get_params()"
   ]
  },
  {
   "cell_type": "code",
   "execution_count": null,
   "id": "protecting-interval",
   "metadata": {},
   "outputs": [],
   "source": []
  }
 ],
 "metadata": {
  "kernelspec": {
   "display_name": "Python 3",
   "language": "python",
   "name": "python3"
  },
  "language_info": {
   "codemirror_mode": {
    "name": "ipython",
    "version": 3
   },
   "file_extension": ".py",
   "mimetype": "text/x-python",
   "name": "python",
   "nbconvert_exporter": "python",
   "pygments_lexer": "ipython3",
   "version": "3.7.9"
  },
  "latex_envs": {
   "LaTeX_envs_menu_present": true,
   "autoclose": false,
   "autocomplete": true,
   "bibliofile": "biblio.bib",
   "cite_by": "apalike",
   "current_citInitial": 1,
   "eqLabelWithNumbers": true,
   "eqNumInitial": 1,
   "hotkeys": {
    "equation": "Ctrl-E",
    "itemize": "Ctrl-I"
   },
   "labels_anchors": false,
   "latex_user_defs": false,
   "report_style_numbering": false,
   "user_envs_cfg": false
  },
  "toc": {
   "base_numbering": 1,
   "nav_menu": {},
   "number_sections": true,
   "sideBar": true,
   "skip_h1_title": false,
   "title_cell": "Table of Contents",
   "title_sidebar": "Contents",
   "toc_cell": true,
   "toc_position": {},
   "toc_section_display": true,
   "toc_window_display": false
  },
  "varInspector": {
   "cols": {
    "lenName": 16,
    "lenType": 16,
    "lenVar": 40
   },
   "kernels_config": {
    "python": {
     "delete_cmd_postfix": "",
     "delete_cmd_prefix": "del ",
     "library": "var_list.py",
     "varRefreshCmd": "print(var_dic_list())"
    },
    "r": {
     "delete_cmd_postfix": ") ",
     "delete_cmd_prefix": "rm(",
     "library": "var_list.r",
     "varRefreshCmd": "cat(var_dic_list()) "
    }
   },
   "types_to_exclude": [
    "module",
    "function",
    "builtin_function_or_method",
    "instance",
    "_Feature"
   ],
   "window_display": false
  }
 },
 "nbformat": 4,
 "nbformat_minor": 5
}
